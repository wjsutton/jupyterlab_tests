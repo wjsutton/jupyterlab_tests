{
 "cells": [
  {
   "cell_type": "markdown",
   "id": "8df681a3-780d-4635-8e34-94be70a24fed",
   "metadata": {},
   "source": [
    "# 2023: Week 1 The Data Source Bank\r\n",
    "January 04, 2023\n",
    " Created by: Carl Allchin\r\n",
    "\r\n",
    "Welcome to a New Year of Preppin' Data. These are weekly exercises to help you learn and develop data preparation skills. We publish the challenges on a Wednesday and share a solution the following Tuesday. You can take the challenges whenever you want and we love to see your solutions. With data preparation, there is never just one way to complete the tasks so sharing your solutions will help others learn too. Share on Twitter, LinkedIn, the Tableau Forums or wherever you wan too. Tag Jenny Martin, Tom Prowse or myself or just use the #PreppinData to share your solutions. \r\n",
    "\r\n",
    "The challenges are designed for learning Tableau Prep but we have a broad community who complete the challenges in R, Python, SQL, DBT, EasyMorph and many other tools. We love seeing people learn new tools so feel free to use whatever tools you want to complete the challenges. \r\n",
    "\r\n",
    "A New Year means we start afresh so January's challenges will be focused on beginners. We will use different techniques each week to help you develop your skills. In February, we will set the challenges at an intermediate level and then in March we will do some advanced challenges. January's challenges will have links to useful videos and blogposts to help you learn a technique if it is new to you. \r\n",
    "\r\n",
    "The subject for January will be our new (fake) bank -- The Data Source Bank (DSB). This week we have had a report with a number of transactions that have not just our transactions but other banks' too. Can you help clean up t## he data?\r\n",
    "\r\n",
    "Input"
   ]
  },
  {
   "cell_type": "code",
   "execution_count": 1,
   "id": "746eba05-286d-4fb5-8263-715c93fcedfb",
   "metadata": {},
   "outputs": [
    {
     "data": {
      "text/html": [
       "<div>\n",
       "<style scoped>\n",
       "    .dataframe tbody tr th:only-of-type {\n",
       "        vertical-align: middle;\n",
       "    }\n",
       "\n",
       "    .dataframe tbody tr th {\n",
       "        vertical-align: top;\n",
       "    }\n",
       "\n",
       "    .dataframe thead th {\n",
       "        text-align: right;\n",
       "    }\n",
       "</style>\n",
       "<table border=\"1\" class=\"dataframe\">\n",
       "  <thead>\n",
       "    <tr style=\"text-align: right;\">\n",
       "      <th></th>\n",
       "      <th>Transaction Code</th>\n",
       "      <th>Value</th>\n",
       "      <th>Customer Code</th>\n",
       "      <th>Online or In-Person</th>\n",
       "      <th>Transaction Date</th>\n",
       "    </tr>\n",
       "  </thead>\n",
       "  <tbody>\n",
       "    <tr>\n",
       "      <th>0</th>\n",
       "      <td>DTB-716-679-576</td>\n",
       "      <td>1448</td>\n",
       "      <td>100001</td>\n",
       "      <td>2</td>\n",
       "      <td>20/03/2023 00:00:00</td>\n",
       "    </tr>\n",
       "    <tr>\n",
       "      <th>1</th>\n",
       "      <td>DS-795-814-303</td>\n",
       "      <td>7839</td>\n",
       "      <td>100001</td>\n",
       "      <td>2</td>\n",
       "      <td>15/11/2023 00:00:00</td>\n",
       "    </tr>\n",
       "    <tr>\n",
       "      <th>2</th>\n",
       "      <td>DSB-807-592-406</td>\n",
       "      <td>5520</td>\n",
       "      <td>100005</td>\n",
       "      <td>1</td>\n",
       "      <td>14/07/2023 00:00:00</td>\n",
       "    </tr>\n",
       "    <tr>\n",
       "      <th>3</th>\n",
       "      <td>DS-367-545-264</td>\n",
       "      <td>7957</td>\n",
       "      <td>100007</td>\n",
       "      <td>2</td>\n",
       "      <td>18/08/2023 00:00:00</td>\n",
       "    </tr>\n",
       "    <tr>\n",
       "      <th>4</th>\n",
       "      <td>DSB-474-374-857</td>\n",
       "      <td>5375</td>\n",
       "      <td>100000</td>\n",
       "      <td>2</td>\n",
       "      <td>26/08/2023 00:00:00</td>\n",
       "    </tr>\n",
       "  </tbody>\n",
       "</table>\n",
       "</div>"
      ],
      "text/plain": [
       "  Transaction Code  Value  Customer Code  Online or In-Person  \\\n",
       "0  DTB-716-679-576   1448         100001                    2   \n",
       "1   DS-795-814-303   7839         100001                    2   \n",
       "2  DSB-807-592-406   5520         100005                    1   \n",
       "3   DS-367-545-264   7957         100007                    2   \n",
       "4  DSB-474-374-857   5375         100000                    2   \n",
       "\n",
       "      Transaction Date  \n",
       "0  20/03/2023 00:00:00  \n",
       "1  15/11/2023 00:00:00  \n",
       "2  14/07/2023 00:00:00  \n",
       "3  18/08/2023 00:00:00  \n",
       "4  26/08/2023 00:00:00  "
      ]
     },
     "execution_count": 1,
     "metadata": {},
     "output_type": "execute_result"
    }
   ],
   "source": [
    "import pandas as pd\n",
    "df = pd.read_csv('preppin_data/unprepped_data/PD 2023 Wk 1 Input.csv')\n",
    "df.head(5)"
   ]
  },
  {
   "cell_type": "markdown",
   "id": "5fb665ec-e0dc-4442-9dc3-1cd260cf882e",
   "metadata": {},
   "source": [
    "## Requirements\n",
    "\n",
    "Input the datile (help)"
   ]
  },
  {
   "cell_type": "code",
   "execution_count": 2,
   "id": "20efeba1-a3c4-468a-8cff-722f57df66c5",
   "metadata": {},
   "outputs": [],
   "source": [
    "# enter your code here"
   ]
  },
  {
   "cell_type": "markdown",
   "id": "86e55a57-48fa-447f-8d55-76d2e1e49c14",
   "metadata": {},
   "source": [
    "Split the Transaction Code to extract the letters at the start of the transaction code. These identify the bank who processes the transaction"
   ]
  },
  {
   "cell_type": "code",
   "execution_count": 3,
   "id": "0e5ad4d8-83ff-4fce-a91f-932c8037883b",
   "metadata": {},
   "outputs": [],
   "source": [
    "# enter your code here"
   ]
  },
  {
   "cell_type": "markdown",
   "id": "06aac93f-758b-4cee-b3fb-1e7be26d795b",
   "metadata": {},
   "source": [
    "Rename the new field with the Bank code 'Bank'."
   ]
  },
  {
   "cell_type": "code",
   "execution_count": 4,
   "id": "370bb545-06a6-498a-b83e-904de7cab36d",
   "metadata": {},
   "outputs": [],
   "source": [
    "# enter your code here"
   ]
  },
  {
   "cell_type": "markdown",
   "id": "bbd57224-ce2f-4932-8185-685ae81a1927",
   "metadata": {},
   "source": [
    "Rename the values in the Online or In-person field, Online of the 1 values and In-Person for the 2 values. "
   ]
  },
  {
   "cell_type": "code",
   "execution_count": 5,
   "id": "2bfa4375-5895-492a-af0d-2c0c1858eee8",
   "metadata": {},
   "outputs": [],
   "source": [
    "# enter your code here"
   ]
  },
  {
   "cell_type": "markdown",
   "id": "6d678e7e-19a1-4c57-a862-d7cba11addd5",
   "metadata": {},
   "source": [
    "Change the date to be the day of the week"
   ]
  },
  {
   "cell_type": "code",
   "execution_count": 6,
   "id": "82f6c61f-f776-40f5-a44d-ae3cfadc80f3",
   "metadata": {},
   "outputs": [],
   "source": [
    "# enter your code here"
   ]
  },
  {
   "cell_type": "markdown",
   "id": "cb34436a-13b4-4121-b51d-91bcf6e09b25",
   "metadata": {},
   "source": [
    "Different levels of detail are required in the outputs. You will need to sum up the values of the transactions in three ways:\n",
    "1. Total Values of Transactions by each bank\n",
    "2. Total Values by Bank, Day of the Week and Type of Transaction (Online or In-Person)\n",
    "3. Total Values by Bank and Customer Code"
   ]
  },
  {
   "cell_type": "code",
   "execution_count": 7,
   "id": "e7d7e042-7dee-44c1-819d-a1c99cbbe140",
   "metadata": {},
   "outputs": [],
   "source": [
    "# enter your code here"
   ]
  },
  {
   "cell_type": "markdown",
   "id": "2670392b-ee09-4909-a56e-bfc117747912",
   "metadata": {},
   "source": [
    "Output each data file"
   ]
  },
  {
   "cell_type": "code",
   "execution_count": 8,
   "id": "afbebb79-9461-459c-9ec2-06707af2117d",
   "metadata": {},
   "outputs": [],
   "source": [
    "# enter your code here"
   ]
  },
  {
   "cell_type": "markdown",
   "id": "33d21691-c614-4567-8a76-81c9b4ba1995",
   "metadata": {},
   "source": [
    "## Output\n",
    "### Output 1: Total Values of Transactions by each bank\n",
    "\n",
    "Two data fields:\n",
    "Bank \n",
    "Value\n",
    "3 rows of data (4 including field headers)"
   ]
  },
  {
   "cell_type": "code",
   "execution_count": 9,
   "id": "8ae5b873-8e5c-458c-9241-181f9ad3158e",
   "metadata": {},
   "outputs": [
    {
     "data": {
      "text/html": [
       "<div>\n",
       "<style scoped>\n",
       "    .dataframe tbody tr th:only-of-type {\n",
       "        vertical-align: middle;\n",
       "    }\n",
       "\n",
       "    .dataframe tbody tr th {\n",
       "        vertical-align: top;\n",
       "    }\n",
       "\n",
       "    .dataframe thead th {\n",
       "        text-align: right;\n",
       "    }\n",
       "</style>\n",
       "<table border=\"1\" class=\"dataframe\">\n",
       "  <thead>\n",
       "    <tr style=\"text-align: right;\">\n",
       "      <th></th>\n",
       "      <th>Bank</th>\n",
       "      <th>Value</th>\n",
       "    </tr>\n",
       "  </thead>\n",
       "  <tbody>\n",
       "    <tr>\n",
       "      <th>0</th>\n",
       "      <td>DS</td>\n",
       "      <td>653940</td>\n",
       "    </tr>\n",
       "    <tr>\n",
       "      <th>1</th>\n",
       "      <td>DSB</td>\n",
       "      <td>530489</td>\n",
       "    </tr>\n",
       "    <tr>\n",
       "      <th>2</th>\n",
       "      <td>DTB</td>\n",
       "      <td>618238</td>\n",
       "    </tr>\n",
       "  </tbody>\n",
       "</table>\n",
       "</div>"
      ],
      "text/plain": [
       "  Bank   Value\n",
       "0   DS  653940\n",
       "1  DSB  530489\n",
       "2  DTB  618238"
      ]
     },
     "execution_count": 9,
     "metadata": {},
     "output_type": "execute_result"
    }
   ],
   "source": [
    "solution_df1 = pd.read_csv('preppin_data/prepped_outputs/pd2023wk01_output1.csv')\n",
    "solution_df1.head(5)"
   ]
  },
  {
   "cell_type": "markdown",
   "id": "5f223d4d-b8ee-4841-915e-95bf6bf10a30",
   "metadata": {},
   "source": [
    "### Output 2: Total Values by Bank, Day of the Week and Type of Transaction\n",
    "\n",
    "Four data fields:\n",
    "Bank\n",
    "Online or In-Person\n",
    "Transaction Date\n",
    "Value\n",
    "42 rows of data (43 including field headers)"
   ]
  },
  {
   "cell_type": "code",
   "execution_count": 10,
   "id": "913cd97e-66c4-42dd-9b01-58cf3162daa6",
   "metadata": {},
   "outputs": [
    {
     "data": {
      "text/html": [
       "<div>\n",
       "<style scoped>\n",
       "    .dataframe tbody tr th:only-of-type {\n",
       "        vertical-align: middle;\n",
       "    }\n",
       "\n",
       "    .dataframe tbody tr th {\n",
       "        vertical-align: top;\n",
       "    }\n",
       "\n",
       "    .dataframe thead th {\n",
       "        text-align: right;\n",
       "    }\n",
       "</style>\n",
       "<table border=\"1\" class=\"dataframe\">\n",
       "  <thead>\n",
       "    <tr style=\"text-align: right;\">\n",
       "      <th></th>\n",
       "      <th>Bank</th>\n",
       "      <th>Online or In-Person</th>\n",
       "      <th>Transaction Date</th>\n",
       "      <th>Value</th>\n",
       "    </tr>\n",
       "  </thead>\n",
       "  <tbody>\n",
       "    <tr>\n",
       "      <th>0</th>\n",
       "      <td>DS</td>\n",
       "      <td>In-Person</td>\n",
       "      <td>Friday</td>\n",
       "      <td>58599</td>\n",
       "    </tr>\n",
       "    <tr>\n",
       "      <th>1</th>\n",
       "      <td>DS</td>\n",
       "      <td>In-Person</td>\n",
       "      <td>Monday</td>\n",
       "      <td>42806</td>\n",
       "    </tr>\n",
       "    <tr>\n",
       "      <th>2</th>\n",
       "      <td>DS</td>\n",
       "      <td>In-Person</td>\n",
       "      <td>Saturday</td>\n",
       "      <td>34867</td>\n",
       "    </tr>\n",
       "    <tr>\n",
       "      <th>3</th>\n",
       "      <td>DS</td>\n",
       "      <td>In-Person</td>\n",
       "      <td>Sunday</td>\n",
       "      <td>51301</td>\n",
       "    </tr>\n",
       "    <tr>\n",
       "      <th>4</th>\n",
       "      <td>DS</td>\n",
       "      <td>In-Person</td>\n",
       "      <td>Thursday</td>\n",
       "      <td>75582</td>\n",
       "    </tr>\n",
       "  </tbody>\n",
       "</table>\n",
       "</div>"
      ],
      "text/plain": [
       "  Bank Online or In-Person Transaction Date  Value\n",
       "0   DS           In-Person           Friday  58599\n",
       "1   DS           In-Person           Monday  42806\n",
       "2   DS           In-Person         Saturday  34867\n",
       "3   DS           In-Person           Sunday  51301\n",
       "4   DS           In-Person         Thursday  75582"
      ]
     },
     "execution_count": 10,
     "metadata": {},
     "output_type": "execute_result"
    }
   ],
   "source": [
    "solution_df2 = pd.read_csv('preppin_data/prepped_outputs/pd2023wk01_output2.csv')\n",
    "solution_df2.head(5)"
   ]
  },
  {
   "cell_type": "markdown",
   "id": "d772ea35-f8b1-4658-a6cb-98530d1f668d",
   "metadata": {},
   "source": [
    "### Output 3: Total Values by Bank and Customer Code\n",
    "\n",
    "Three data fields:\n",
    "Bank\n",
    "Customer Code\n",
    "Value\n",
    "33 rows of data (34 including field headers)"
   ]
  },
  {
   "cell_type": "code",
   "execution_count": 11,
   "id": "d2753c1b-230d-4628-aa37-4cd168baeddd",
   "metadata": {},
   "outputs": [
    {
     "data": {
      "text/html": [
       "<div>\n",
       "<style scoped>\n",
       "    .dataframe tbody tr th:only-of-type {\n",
       "        vertical-align: middle;\n",
       "    }\n",
       "\n",
       "    .dataframe tbody tr th {\n",
       "        vertical-align: top;\n",
       "    }\n",
       "\n",
       "    .dataframe thead th {\n",
       "        text-align: right;\n",
       "    }\n",
       "</style>\n",
       "<table border=\"1\" class=\"dataframe\">\n",
       "  <thead>\n",
       "    <tr style=\"text-align: right;\">\n",
       "      <th></th>\n",
       "      <th>Bank</th>\n",
       "      <th>Customer Code</th>\n",
       "      <th>Value</th>\n",
       "    </tr>\n",
       "  </thead>\n",
       "  <tbody>\n",
       "    <tr>\n",
       "      <th>0</th>\n",
       "      <td>DS</td>\n",
       "      <td>100000</td>\n",
       "      <td>57909</td>\n",
       "    </tr>\n",
       "    <tr>\n",
       "      <th>1</th>\n",
       "      <td>DS</td>\n",
       "      <td>100001</td>\n",
       "      <td>53063</td>\n",
       "    </tr>\n",
       "    <tr>\n",
       "      <th>2</th>\n",
       "      <td>DS</td>\n",
       "      <td>100002</td>\n",
       "      <td>69803</td>\n",
       "    </tr>\n",
       "    <tr>\n",
       "      <th>3</th>\n",
       "      <td>DS</td>\n",
       "      <td>100003</td>\n",
       "      <td>25482</td>\n",
       "    </tr>\n",
       "    <tr>\n",
       "      <th>4</th>\n",
       "      <td>DS</td>\n",
       "      <td>100004</td>\n",
       "      <td>63315</td>\n",
       "    </tr>\n",
       "  </tbody>\n",
       "</table>\n",
       "</div>"
      ],
      "text/plain": [
       "  Bank  Customer Code  Value\n",
       "0   DS         100000  57909\n",
       "1   DS         100001  53063\n",
       "2   DS         100002  69803\n",
       "3   DS         100003  25482\n",
       "4   DS         100004  63315"
      ]
     },
     "execution_count": 11,
     "metadata": {},
     "output_type": "execute_result"
    }
   ],
   "source": [
    "solution_df3 = pd.read_csv('preppin_data/prepped_outputs/pd2023wk01_output3.csv')\n",
    "solution_df3.head(5)"
   ]
  }
 ],
 "metadata": {
  "kernelspec": {
   "display_name": "Python 3 (ipykernel)",
   "language": "python",
   "name": "python3"
  },
  "language_info": {
   "codemirror_mode": {
    "name": "ipython",
    "version": 3
   },
   "file_extension": ".py",
   "mimetype": "text/x-python",
   "name": "python",
   "nbconvert_exporter": "python",
   "pygments_lexer": "ipython3",
   "version": "3.10.10"
  }
 },
 "nbformat": 4,
 "nbformat_minor": 5
}
